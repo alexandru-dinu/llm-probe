{
 "cells": [
  {
   "cell_type": "markdown",
   "id": "6c4428dd-660e-4a05-811c-e4a9a255f7d0",
   "metadata": {},
   "source": [
    "# _Ref:_ Transformers need glasses! Information over-squashing in language tasks\n",
    "https://arxiv.org/pdf/2406.04267"
   ]
  },
  {
   "cell_type": "code",
   "execution_count": null,
   "id": "dd9638e3-b9b5-4c95-ac4c-90fb97ac7807",
   "metadata": {},
   "outputs": [],
   "source": [
    "import matplotlib.pyplot as plt\n",
    "import numpy as np\n",
    "import ollama\n",
    "import pandas as pd\n",
    "import seaborn as sns\n",
    "from scipy import stats\n",
    "from scipy.spatial.distance import cosine\n",
    "from tqdm.auto import tqdm, trange\n",
    "\n",
    "sns.set()"
   ]
  },
  {
   "cell_type": "code",
   "execution_count": null,
   "id": "7ebef07a-edc5-4077-a5d0-f91ba2e7e7ee",
   "metadata": {},
   "outputs": [],
   "source": [
    "metrics = {\n",
    "    \"Linf\": lambda x, y: np.linalg.norm(x - y, ord=np.inf),\n",
    "    \"L2\": lambda x, y: np.linalg.norm(x - y, ord=2),\n",
    "    \"cos\": cosine,\n",
    "}"
   ]
  },
  {
   "cell_type": "code",
   "execution_count": null,
   "id": "15d4a488-f637-4bef-9e2d-b92b6bcad07d",
   "metadata": {},
   "outputs": [],
   "source": [
    "diff = []\n",
    "\n",
    "for model in [\"llama3.1:8b\", \"deepseek-coder-v2:16b\"]:\n",
    "    xs = np.vstack(\n",
    "        [\n",
    "            ollama.embeddings(model=model, prompt=(\"1\" * i) + \"0\")[\"embedding\"]\n",
    "            for i in trange(1, 31, desc=model)\n",
    "        ]\n",
    "    )\n",
    "    for m, f in metrics.items():\n",
    "        ds = [f(xs[i + 1], xs[i]) for i in range(len(xs) - 1)]\n",
    "        diff.append({\"model\": model, \"metric\": m, \"diff\": ds})\n",
    "\n",
    "diff = pd.DataFrame(diff)"
   ]
  },
  {
   "cell_type": "code",
   "execution_count": null,
   "id": "8fa23577-ee6e-4eb5-8560-b99a35477825",
   "metadata": {},
   "outputs": [],
   "source": [
    "plt.figure(figsize=(14, 5))\n",
    "for _, row in diff.query().iterrows():\n",
    "    sns.lineplot(\n",
    "        x=range(len(row[\"diff\"])),\n",
    "        y=row[\"diff\"],\n",
    "        linestyle=\"--\",\n",
    "        marker=\"o\",\n",
    "        label=f\"{row['model']}/{row['metric']}\",\n",
    "    )\n",
    "\n",
    "plt.yscale(\"log\")\n",
    "plt.grid(True, which=\"both\")\n",
    "plt.tight_layout()\n",
    "pass"
   ]
  },
  {
   "cell_type": "code",
   "execution_count": null,
   "id": "d62b7092-c833-473c-b178-ae46a9cb7dbf",
   "metadata": {},
   "outputs": [],
   "source": [
    "df = diff.set_index([\"model\", \"metric\"])\n",
    "df"
   ]
  },
  {
   "cell_type": "code",
   "execution_count": null,
   "id": "58b56f30-e742-4f44-b46d-d794326b1603",
   "metadata": {},
   "outputs": [],
   "source": [
    "stats.pearsonr(\n",
    "    df.loc[(\"deepseek-coder-v2:16b\", \"cos\")].item(),\n",
    "    df.loc[(\"deepseek-coder-v2:16b\", \"l_2\")].item(),\n",
    ")"
   ]
  }
 ],
 "metadata": {
  "kernelspec": {
   "display_name": "Python 3 (ipykernel)",
   "language": "python",
   "name": "python3"
  },
  "language_info": {
   "codemirror_mode": {
    "name": "ipython",
    "version": 3
   },
   "file_extension": ".py",
   "mimetype": "text/x-python",
   "name": "python",
   "nbconvert_exporter": "python",
   "pygments_lexer": "ipython3",
   "version": "3.12.4"
  }
 },
 "nbformat": 4,
 "nbformat_minor": 5
}
