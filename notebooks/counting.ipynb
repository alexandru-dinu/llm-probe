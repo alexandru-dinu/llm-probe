{
 "cells": [
  {
   "cell_type": "markdown",
   "id": "6c4428dd-660e-4a05-811c-e4a9a255f7d0",
   "metadata": {},
   "source": [
    "# Counting"
   ]
  },
  {
   "cell_type": "code",
   "execution_count": 1,
   "id": "dd9638e3-b9b5-4c95-ac4c-90fb97ac7807",
   "metadata": {},
   "outputs": [],
   "source": [
    "import random\n",
    "import string\n",
    "\n",
    "import matplotlib.pyplot as plt\n",
    "import numpy as np\n",
    "import ollama\n",
    "import pandas as pd\n",
    "import seaborn as sns\n",
    "from scipy import stats\n",
    "from scipy.spatial.distance import cosine\n",
    "from tqdm.auto import tqdm, trange\n",
    "\n",
    "sns.set()"
   ]
  },
  {
   "cell_type": "code",
   "execution_count": 6,
   "id": "15d4a488-f637-4bef-9e2d-b92b6bcad07d",
   "metadata": {},
   "outputs": [
    {
     "data": {
      "application/vnd.jupyter.widget-view+json": {
       "model_id": "b0f81e341d78459ba53bd1fb2641c7c5",
       "version_major": 2,
       "version_minor": 0
      },
      "text/plain": [
       "  0%|          | 0/5 [00:00<?, ?it/s]"
      ]
     },
     "metadata": {},
     "output_type": "display_data"
    },
    {
     "data": {
      "application/vnd.jupyter.widget-view+json": {
       "model_id": "02e90758a2a345a39a5da1730ab7560e",
       "version_major": 2,
       "version_minor": 0
      },
      "text/plain": [
       "  0%|          | 0/5 [00:00<?, ?it/s]"
      ]
     },
     "metadata": {},
     "output_type": "display_data"
    }
   ],
   "source": [
    "df = []\n",
    "\n",
    "for model in [\"llama3.1:8b\", \"deepseek-coder-v2:16b\"]:\n",
    "    for _ in trange(5):\n",
    "        x = \"\".join(\n",
    "            [random.choice(string.digits) for _ in range(random.randint(5, 10))]\n",
    "        )\n",
    "        res = ollama.chat(\n",
    "            model=model,\n",
    "            messages=[\n",
    "                {\n",
    "                    \"role\": \"user\",\n",
    "                    \"content\": f\"Count the number of character '1' in the following string. Don't return anything else but the count as a single number. String: {x}. Count:\",\n",
    "                },\n",
    "            ],\n",
    "        )\n",
    "        true = x.count(\"1\")\n",
    "        try:\n",
    "            pred = int(res[\"message\"][\"content\"])\n",
    "        except ValueError:\n",
    "            pred = None\n",
    "        df.append({\"string\": x, \"model\": model, \"true\": true, \"pred\": pred})\n",
    "\n",
    "df = pd.DataFrame(df)"
   ]
  },
  {
   "cell_type": "code",
   "execution_count": 7,
   "id": "63855c5c-f23f-4d83-b124-96188298fd20",
   "metadata": {},
   "outputs": [
    {
     "data": {
      "text/html": [
       "<div>\n",
       "<style scoped>\n",
       "    .dataframe tbody tr th:only-of-type {\n",
       "        vertical-align: middle;\n",
       "    }\n",
       "\n",
       "    .dataframe tbody tr th {\n",
       "        vertical-align: top;\n",
       "    }\n",
       "\n",
       "    .dataframe thead th {\n",
       "        text-align: right;\n",
       "    }\n",
       "</style>\n",
       "<table border=\"1\" class=\"dataframe\">\n",
       "  <thead>\n",
       "    <tr style=\"text-align: right;\">\n",
       "      <th></th>\n",
       "      <th>string</th>\n",
       "      <th>model</th>\n",
       "      <th>true</th>\n",
       "      <th>pred</th>\n",
       "    </tr>\n",
       "  </thead>\n",
       "  <tbody>\n",
       "    <tr>\n",
       "      <th>0</th>\n",
       "      <td>90338911</td>\n",
       "      <td>llama3.1:8b</td>\n",
       "      <td>2</td>\n",
       "      <td>7.0</td>\n",
       "    </tr>\n",
       "    <tr>\n",
       "      <th>1</th>\n",
       "      <td>7852401</td>\n",
       "      <td>llama3.1:8b</td>\n",
       "      <td>1</td>\n",
       "      <td>2.0</td>\n",
       "    </tr>\n",
       "    <tr>\n",
       "      <th>2</th>\n",
       "      <td>8150171</td>\n",
       "      <td>llama3.1:8b</td>\n",
       "      <td>3</td>\n",
       "      <td>3.0</td>\n",
       "    </tr>\n",
       "    <tr>\n",
       "      <th>3</th>\n",
       "      <td>70195</td>\n",
       "      <td>llama3.1:8b</td>\n",
       "      <td>1</td>\n",
       "      <td>4.0</td>\n",
       "    </tr>\n",
       "    <tr>\n",
       "      <th>4</th>\n",
       "      <td>48221359</td>\n",
       "      <td>llama3.1:8b</td>\n",
       "      <td>1</td>\n",
       "      <td>3.0</td>\n",
       "    </tr>\n",
       "    <tr>\n",
       "      <th>5</th>\n",
       "      <td>8786853</td>\n",
       "      <td>deepseek-coder-v2:16b</td>\n",
       "      <td>0</td>\n",
       "      <td>NaN</td>\n",
       "    </tr>\n",
       "    <tr>\n",
       "      <th>6</th>\n",
       "      <td>34603213</td>\n",
       "      <td>deepseek-coder-v2:16b</td>\n",
       "      <td>1</td>\n",
       "      <td>NaN</td>\n",
       "    </tr>\n",
       "    <tr>\n",
       "      <th>7</th>\n",
       "      <td>632010</td>\n",
       "      <td>deepseek-coder-v2:16b</td>\n",
       "      <td>1</td>\n",
       "      <td>NaN</td>\n",
       "    </tr>\n",
       "    <tr>\n",
       "      <th>8</th>\n",
       "      <td>79041692</td>\n",
       "      <td>deepseek-coder-v2:16b</td>\n",
       "      <td>1</td>\n",
       "      <td>NaN</td>\n",
       "    </tr>\n",
       "    <tr>\n",
       "      <th>9</th>\n",
       "      <td>416449</td>\n",
       "      <td>deepseek-coder-v2:16b</td>\n",
       "      <td>1</td>\n",
       "      <td>NaN</td>\n",
       "    </tr>\n",
       "  </tbody>\n",
       "</table>\n",
       "</div>"
      ],
      "text/plain": [
       "     string                  model  true  pred\n",
       "0  90338911            llama3.1:8b     2   7.0\n",
       "1   7852401            llama3.1:8b     1   2.0\n",
       "2   8150171            llama3.1:8b     3   3.0\n",
       "3     70195            llama3.1:8b     1   4.0\n",
       "4  48221359            llama3.1:8b     1   3.0\n",
       "5   8786853  deepseek-coder-v2:16b     0   NaN\n",
       "6  34603213  deepseek-coder-v2:16b     1   NaN\n",
       "7    632010  deepseek-coder-v2:16b     1   NaN\n",
       "8  79041692  deepseek-coder-v2:16b     1   NaN\n",
       "9    416449  deepseek-coder-v2:16b     1   NaN"
      ]
     },
     "execution_count": 7,
     "metadata": {},
     "output_type": "execute_result"
    }
   ],
   "source": [
    "df"
   ]
  }
 ],
 "metadata": {
  "kernelspec": {
   "display_name": "Python 3 (ipykernel)",
   "language": "python",
   "name": "python3"
  },
  "language_info": {
   "codemirror_mode": {
    "name": "ipython",
    "version": 3
   },
   "file_extension": ".py",
   "mimetype": "text/x-python",
   "name": "python",
   "nbconvert_exporter": "python",
   "pygments_lexer": "ipython3",
   "version": "3.12.4"
  }
 },
 "nbformat": 4,
 "nbformat_minor": 5
}
